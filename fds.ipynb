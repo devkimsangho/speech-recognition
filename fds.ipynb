{
 "cells": [
  {
   "cell_type": "code",
   "execution_count": 1,
   "metadata": {},
   "outputs": [],
   "source": [
    "# 데이터 전처리\n",
    "import numpy as np\n",
    "import pandas as pd\n",
    "from tqdm import tqdm, tqdm_notebook\n",
    "import random\n",
    "from collections import Counter\n",
    "from keras.preprocessing.text import Tokenizer\n",
    "from keras_preprocessing.sequence import pad_sequences\n",
    "import re\n",
    "\n",
    "# lstm_model\n",
    "from keras.layers import *\n",
    "from keras import backend as K\n",
    "from keras import optimizers\n",
    "import keras\n",
    "from keras.layers import Dense, Embedding, LSTM, Bidirectional, Concatenate, BatchNormalization, Dropout\n",
    "from keras.models import Sequential\n",
    "from keras import Input, Model\n",
    "\n",
    "# 시각화 라이브러리\n",
    "import matplotlib.pyplot as plt\n",
    "import seaborn as sns\n",
    "\n",
    "# Word2Vec model\n",
    "from gensim.models import Word2Vec, Phrases\n",
    "from gensim.models import KeyedVectors\n",
    "\n",
    "# 하이퍼 파라미터, CV(Cross Validation)\n",
    "from sklearn.model_selection import GridSearchCV, StratifiedKFold\n",
    "from sklearn.model_selection import cross_val_score\n",
    "\n",
    "from keras.callbacks import *\n",
    "from keras.utils.np_utils import to_categorical\n"
   ]
  },
  {
   "cell_type": "code",
   "execution_count": 21,
   "metadata": {},
   "outputs": [],
   "source": [
    "dataset = pd.read_csv('./fds/data/dataset/dataset.csv',names=['text','fishing'])"
   ]
  },
  {
   "cell_type": "code",
   "execution_count": 24,
   "metadata": {},
   "outputs": [
    {
     "data": {
      "text/html": [
       "<div>\n",
       "<style scoped>\n",
       "    .dataframe tbody tr th:only-of-type {\n",
       "        vertical-align: middle;\n",
       "    }\n",
       "\n",
       "    .dataframe tbody tr th {\n",
       "        vertical-align: top;\n",
       "    }\n",
       "\n",
       "    .dataframe thead th {\n",
       "        text-align: right;\n",
       "    }\n",
       "</style>\n",
       "<table border=\"1\" class=\"dataframe\">\n",
       "  <thead>\n",
       "    <tr style=\"text-align: right;\">\n",
       "      <th></th>\n",
       "      <th>text</th>\n",
       "      <th>fishing</th>\n",
       "    </tr>\n",
       "  </thead>\n",
       "  <tbody>\n",
       "    <tr>\n",
       "      <th>0</th>\n",
       "      <td>네, 지금 방송 중인 상품 사려고요.네, 무엇을 도와드릴까요?네 정보 확인 후 주문...</td>\n",
       "      <td>0</td>\n",
       "    </tr>\n",
       "    <tr>\n",
       "      <th>1</th>\n",
       "      <td>아 지금 방송하고 있는 거.예 아 그런데 제가 만약 생각 좀 해 보고 카드 결제로 ...</td>\n",
       "      <td>0</td>\n",
       "    </tr>\n",
       "    <tr>\n",
       "      <th>2</th>\n",
       "      <td>지금 방송하는 상품 주문되나요?제가 ㅇㅇ쇼핑에 등록되어 있지 않나요?휴대폰번호로 등...</td>\n",
       "      <td>0</td>\n",
       "    </tr>\n",
       "    <tr>\n",
       "      <th>3</th>\n",
       "      <td>근무하시는 물어보세요 알아보니까 경룡 끝났는데 왜 저희는 그거를 다 소화를 할 수...</td>\n",
       "      <td>1</td>\n",
       "    </tr>\n",
       "    <tr>\n",
       "      <th>4</th>\n",
       "      <td>네. 안녕하세요. 모바일로 주문하려고 해서 주문서를 쓰는데요.사만 팔천원으로 나오는...</td>\n",
       "      <td>0</td>\n",
       "    </tr>\n",
       "  </tbody>\n",
       "</table>\n",
       "</div>"
      ],
      "text/plain": [
       "                                                text  fishing\n",
       "0  네, 지금 방송 중인 상품 사려고요.네, 무엇을 도와드릴까요?네 정보 확인 후 주문...        0\n",
       "1  아 지금 방송하고 있는 거.예 아 그런데 제가 만약 생각 좀 해 보고 카드 결제로 ...        0\n",
       "2  지금 방송하는 상품 주문되나요?제가 ㅇㅇ쇼핑에 등록되어 있지 않나요?휴대폰번호로 등...        0\n",
       "3   근무하시는 물어보세요 알아보니까 경룡 끝났는데 왜 저희는 그거를 다 소화를 할 수...        1\n",
       "4  네. 안녕하세요. 모바일로 주문하려고 해서 주문서를 쓰는데요.사만 팔천원으로 나오는...        0"
      ]
     },
     "execution_count": 24,
     "metadata": {},
     "output_type": "execute_result"
    }
   ],
   "source": [
    "dataset.head()"
   ]
  },
  {
   "cell_type": "code",
   "execution_count": 51,
   "metadata": {},
   "outputs": [
    {
     "name": "stdout",
     "output_type": "stream",
     "text": [
      "정상 비율 7.759% 464/5980\n",
      "보이스피싱 비율 92.241% 5516/5980\n"
     ]
    }
   ],
   "source": [
    "fishing = len(dataset.loc[dataset['fishing']==0])\n",
    "non_fishing = len(dataset.loc[dataset['fishing']==1])\n",
    "num_data = len(dataset['fishing'])\n",
    "\n",
    "print('정상 비율 {}% {}/{}'.format(round(non_fishing/num_data * 100,3),non_fishing,num_data))\n",
    "print('보이스피싱 비율 {}% {}/{}'.format(round(fishing/num_data * 100,3),fishing,num_data))\n"
   ]
  },
  {
   "cell_type": "code",
   "execution_count": 52,
   "metadata": {},
   "outputs": [
    {
     "data": {
      "text/plain": [
       "<AxesSubplot:xlabel='fishing', ylabel='count'>"
      ]
     },
     "execution_count": 52,
     "metadata": {},
     "output_type": "execute_result"
    },
    {
     "data": {
      "image/png": "[encoded data removed]",
      "text/plain": [
       "<Figure size 1008x432 with 1 Axes>"
      ]
     },
     "metadata": {
      "needs_background": "light"
     },
     "output_type": "display_data"
    }
   ],
   "source": [
    "plt.figure(figsize=(14,6))\n",
    "sns.countplot(data=dataset,x='fishing')"
   ]
  },
  {
   "cell_type": "code",
   "execution_count": 53,
   "metadata": {},
   "outputs": [
    {
     "data": {
      "text/html": [
       "<div>\n",
       "<style scoped>\n",
       "    .dataframe tbody tr th:only-of-type {\n",
       "        vertical-align: middle;\n",
       "    }\n",
       "\n",
       "    .dataframe tbody tr th {\n",
       "        vertical-align: top;\n",
       "    }\n",
       "\n",
       "    .dataframe thead th {\n",
       "        text-align: right;\n",
       "    }\n",
       "</style>\n",
       "<table border=\"1\" class=\"dataframe\">\n",
       "  <thead>\n",
       "    <tr style=\"text-align: right;\">\n",
       "      <th></th>\n",
       "      <th>text</th>\n",
       "      <th>fishing</th>\n",
       "      <th>length</th>\n",
       "    </tr>\n",
       "  </thead>\n",
       "  <tbody>\n",
       "    <tr>\n",
       "      <th>0</th>\n",
       "      <td>청바지 주문되나요?ㅇㅇ쇼핑 ㅇㅇㅇ 입니다. 무엇을 도와드릴까요?네 고객님 정보 확인...</td>\n",
       "      <td>0</td>\n",
       "      <td>566</td>\n",
       "    </tr>\n",
       "    <tr>\n",
       "      <th>1</th>\n",
       "      <td>네 접이식 옷걸이 여쭤보려구요. 아 예 현금으로 무통장 입금 했는데 카드로 바꾸고 ...</td>\n",
       "      <td>0</td>\n",
       "      <td>1117</td>\n",
       "    </tr>\n",
       "    <tr>\n",
       "      <th>2</th>\n",
       "      <td>아 제가 지금 이동 중이어서, 방송 중인 상품을 구입하려고 전화드렸습니다.네, 고객...</td>\n",
       "      <td>0</td>\n",
       "      <td>705</td>\n",
       "    </tr>\n",
       "    <tr>\n",
       "      <th>3</th>\n",
       "      <td>있습니다 연체가 없으실경우 원리금균등분할상환 원금만기일시상환 방식중 3일에 변경 ...</td>\n",
       "      <td>1</td>\n",
       "      <td>680</td>\n",
       "    </tr>\n",
       "    <tr>\n",
       "      <th>4</th>\n",
       "      <td>방송에 나오는 신발 주문하려구요.언제까지 입금해야 되나요?그럼 언제 배송되나요? 지...</td>\n",
       "      <td>0</td>\n",
       "      <td>546</td>\n",
       "    </tr>\n",
       "  </tbody>\n",
       "</table>\n",
       "</div>"
      ],
      "text/plain": [
       "                                                text  fishing  length\n",
       "0  청바지 주문되나요?ㅇㅇ쇼핑 ㅇㅇㅇ 입니다. 무엇을 도와드릴까요?네 고객님 정보 확인...        0     566\n",
       "1  네 접이식 옷걸이 여쭤보려구요. 아 예 현금으로 무통장 입금 했는데 카드로 바꾸고 ...        0    1117\n",
       "2  아 제가 지금 이동 중이어서, 방송 중인 상품을 구입하려고 전화드렸습니다.네, 고객...        0     705\n",
       "3   있습니다 연체가 없으실경우 원리금균등분할상환 원금만기일시상환 방식중 3일에 변경 ...        1     680\n",
       "4  방송에 나오는 신발 주문하려구요.언제까지 입금해야 되나요?그럼 언제 배송되나요? 지...        0     546"
      ]
     },
     "execution_count": 53,
     "metadata": {},
     "output_type": "execute_result"
    }
   ],
   "source": [
    "dataset['length'] = dataset['text'].apply(lambda x: len(x))\n",
    "fishing = dataset.loc[dataset['fishing']==1]\n",
    "non_fishing = dataset.loc[dataset['fishing']==0]\n",
    "\n",
    "dataset.head()"
   ]
  },
  {
   "cell_type": "code",
   "execution_count": 54,
   "metadata": {},
   "outputs": [
    {
     "name": "stderr",
     "output_type": "stream",
     "text": [
      "d:\\programming\\github\\speech-recognition\\.venv\\lib\\site-packages\\seaborn\\distributions.py:2619: FutureWarning: `distplot` is a deprecated function and will be removed in a future version. Please adapt your code to use either `displot` (a figure-level function with similar flexibility) or `histplot` (an axes-level function for histograms).\n",
      "  warnings.warn(msg, FutureWarning)\n"
     ]
    },
    {
     "data": {
      "text/plain": [
       "<AxesSubplot:xlabel='length'>"
      ]
     },
     "execution_count": 54,
     "metadata": {},
     "output_type": "execute_result"
    },
    {
     "data": {
      "image/png": "[encoded data removed]",
      "text/plain": [
       "<Figure size 1008x432 with 1 Axes>"
      ]
     },
     "metadata": {
      "needs_background": "light"
     },
     "output_type": "display_data"
    }
   ],
   "source": [
    "plt.figure(figsize=(14,6))\n",
    "sns.distplot(dataset['length'],kde=False, bins=50, color='r')"
   ]
  },
  {
   "cell_type": "code",
   "execution_count": 8,
   "metadata": {},
   "outputs": [
    {
     "name": "stderr",
     "output_type": "stream",
     "text": [
      "d:\\programming\\github\\speech-recognition\\.venv\\lib\\site-packages\\seaborn\\distributions.py:2619: FutureWarning: `distplot` is a deprecated function and will be removed in a future version. Please adapt your code to use either `displot` (a figure-level function with similar flexibility) or `histplot` (an axes-level function for histograms).\n",
      "  warnings.warn(msg, FutureWarning)\n"
     ]
    },
    {
     "data": {
      "text/plain": [
       "<matplotlib.legend.Legend at 0x2158c12ca60>"
      ]
     },
     "execution_count": 8,
     "metadata": {},
     "output_type": "execute_result"
    },
    {
     "data": {
      "image/png": "[encoded data removed]",
      "text/plain": [
       "<Figure size 1008x432 with 1 Axes>"
      ]
     },
     "metadata": {
      "needs_background": "light"
     },
     "output_type": "display_data"
    }
   ],
   "source": [
    "plt.figure(figsize=(14,6))\n",
    "sns.distplot(fishing['length'], label='length of fishing')\n",
    "sns.distplot(non_fishing['length'], label='length of non-fishing')\n",
    "plt.legend()"
   ]
  },
  {
   "cell_type": "code",
   "execution_count": 55,
   "metadata": {},
   "outputs": [
    {
     "data": {
      "text/plain": [
       "count     5980.000000\n",
       "mean       911.911538\n",
       "std        549.955743\n",
       "min         20.000000\n",
       "25%        661.750000\n",
       "50%        832.000000\n",
       "75%       1057.000000\n",
       "max      11475.000000\n",
       "Name: length, dtype: float64"
      ]
     },
     "execution_count": 55,
     "metadata": {},
     "output_type": "execute_result"
    }
   ],
   "source": [
    "dataset['length'].describe()"
   ]
  },
  {
   "cell_type": "code",
   "execution_count": 56,
   "metadata": {},
   "outputs": [
    {
     "name": "stdout",
     "output_type": "stream",
     "text": [
      "1116.0\n",
      "전체 평균 길이 : 911.9115384615385\n",
      "피싱 평균 길이 : 1131.217672413793\n",
      "정상 평균 길이 : 893.4637418419144\n"
     ]
    }
   ],
   "source": [
    "print(np.percentile(dataset['length'],80))\n",
    "print('전체 평균 길이 : {}'.format(np.mean(dataset['length'])))\n",
    "print('피싱 평균 길이 : {}'.format(np.mean(fishing['length'])))\n",
    "print('정상 평균 길이 : {}'.format(np.mean(non_fishing['length'])))\n"
   ]
  },
  {
   "cell_type": "code",
   "execution_count": 57,
   "metadata": {},
   "outputs": [
    {
     "data": {
      "text/plain": [
       "((1649.875, 68.875), (394.95, 1568.1000000000004))"
      ]
     },
     "execution_count": 57,
     "metadata": {},
     "output_type": "execute_result"
    }
   ],
   "source": [
    "iqr1 = dataset['length'].describe()['25%']\n",
    "iqr3 = dataset['length'].describe()['75%']\n",
    "\n",
    "ceil_outlier = iqr3 + 1.5 * (iqr3 - iqr1)\n",
    "bot_outlier = iqr1 - 1.5 * (iqr3-iqr1)\n",
    "\n",
    "outlier = (np.percentile(dataset['length'],5), np.percentile(dataset['length'],95))\n",
    "\n",
    "(ceil_outlier, bot_outlier), outlier"
   ]
  },
  {
   "cell_type": "code",
   "execution_count": 61,
   "metadata": {},
   "outputs": [
    {
     "name": "stdout",
     "output_type": "stream",
     "text": [
      "5980\n"
     ]
    }
   ],
   "source": [
    "print(len(dataset))"
   ]
  },
  {
   "cell_type": "code",
   "execution_count": 92,
   "metadata": {},
   "outputs": [
    {
     "data": {
      "text/plain": [
       "5980"
      ]
     },
     "execution_count": 92,
     "metadata": {},
     "output_type": "execute_result"
    }
   ],
   "source": [
    "len(dataset)"
   ]
  },
  {
   "cell_type": "markdown",
   "metadata": {},
   "source": [
    "## 데이터 전처리"
   ]
  },
  {
   "cell_type": "markdown",
   "metadata": {},
   "source": [
    "### 불용어 제거 및 토크나이징"
   ]
  },
  {
   "cell_type": "code",
   "execution_count": 3,
   "metadata": {},
   "outputs": [],
   "source": [
    "from konlpy.tag import Okt\n",
    "okt = Okt()"
   ]
  },
  {
   "cell_type": "code",
   "execution_count": 5,
   "metadata": {},
   "outputs": [
    {
     "name": "stderr",
     "output_type": "stream",
     "text": [
      "C:\\Users\\PC\\AppData\\Local\\Temp\\ipykernel_2056\\865786722.py:2: FutureWarning: The default value of regex will change from True to False in a future version.\n",
      "  dataset['text(clean)'] = dataset['text'].str.replace('[\\\\WX]',' ')\n"
     ]
    }
   ],
   "source": [
    "# 구두점과 특수문자 제거\n",
    "dataset['text(clean)'] = dataset['text'].str.replace('[\\\\WX]',' ')\n",
    "\n",
    "# 문장에서 뜻이 될 만한 품사 태그\n",
    "p = ['Noun','Verb','Adjective','Adverb']\n",
    "# 불용어\n",
    "stopwords = ['ㄱ','ㄴ,','ㄷ','ㄹ','ㅁ','ㅂ','ㅅ','ㅇ','ㅈ','ㅊ','ㅋ','ㅌ','ㅍ','ㅎ','ㅏ','ㅑ','ㅓ','ㅕ','ㅗ','ㅛ','ㅜ','ㅠ','ㅡ','ㅣ','가','나','다','라','마','바','사','아','자','차','카','타','파','하','가가','듀']"
   ]
  },
  {
   "cell_type": "code",
   "execution_count": 6,
   "metadata": {},
   "outputs": [],
   "source": [
    "# 문장 토큰화\n",
    "def tokenizer(data, pos=p, stopword=stopwords):\n",
    "    tokened = okt.pos(data)\n",
    "\n",
    "    return [word for word, tag in tokened if tag in pos and word not in stopword]"
   ]
  },
  {
   "cell_type": "code",
   "execution_count": 7,
   "metadata": {},
   "outputs": [],
   "source": [
    "train = dataset[:4784]\n",
    "test = dataset[4784:]"
   ]
  },
  {
   "cell_type": "code",
   "execution_count": 8,
   "metadata": {},
   "outputs": [
    {
     "name": "stdout",
     "output_type": "stream",
     "text": [
      "(4784, 4)\n"
     ]
    },
    {
     "name": "stderr",
     "output_type": "stream",
     "text": [
      "C:\\Users\\PC\\AppData\\Local\\Temp\\ipykernel_2056\\3864964366.py:1: SettingWithCopyWarning: \n",
      "A value is trying to be set on a copy of a slice from a DataFrame.\n",
      "Try using .loc[row_indexer,col_indexer] = value instead\n",
      "\n",
      "See the caveats in the documentation: https://pandas.pydata.org/pandas-docs/stable/user_guide/indexing.html#returning-a-view-versus-a-copy\n",
      "  train['tokenized'] = train['text(clean)'].apply(tokenizer)\n"
     ]
    },
    {
     "data": {
      "text/html": [
       "<div>\n",
       "<style scoped>\n",
       "    .dataframe tbody tr th:only-of-type {\n",
       "        vertical-align: middle;\n",
       "    }\n",
       "\n",
       "    .dataframe tbody tr th {\n",
       "        vertical-align: top;\n",
       "    }\n",
       "\n",
       "    .dataframe thead th {\n",
       "        text-align: right;\n",
       "    }\n",
       "</style>\n",
       "<table border=\"1\" class=\"dataframe\">\n",
       "  <thead>\n",
       "    <tr style=\"text-align: right;\">\n",
       "      <th></th>\n",
       "      <th>text</th>\n",
       "      <th>fishing</th>\n",
       "      <th>text(clean)</th>\n",
       "      <th>tokenized</th>\n",
       "    </tr>\n",
       "  </thead>\n",
       "  <tbody>\n",
       "    <tr>\n",
       "      <th>0</th>\n",
       "      <td>네 지금 카드로 결제를 했는데 오류가 생겼다고 해서요. 확인 좀 해주세요.네 반갑습...</td>\n",
       "      <td>0</td>\n",
       "      <td>네 지금 카드로 결제를 했는데 오류가 생겼다고 해서요  확인 좀 해주세요 네 반갑습...</td>\n",
       "      <td>[네, 지금, 카드, 결제, 했는데, 오류, 생겼다고, 해서요, 확인, 좀, 해주세...</td>\n",
       "    </tr>\n",
       "    <tr>\n",
       "      <th>1</th>\n",
       "      <td>예 주문할려고 그러거든요. 네 이게 전화로 해서 적립금 있나요? 국민 카드 청구 할...</td>\n",
       "      <td>0</td>\n",
       "      <td>예 주문할려고 그러거든요  네 이게 전화로 해서 적립금 있나요  국민 카드 청구 할...</td>\n",
       "      <td>[예, 주문, 할려고, 그러거든요, 네, 이, 전화, 해서, 적립금, 있나요, 국민...</td>\n",
       "    </tr>\n",
       "  </tbody>\n",
       "</table>\n",
       "</div>"
      ],
      "text/plain": [
       "                                                text  fishing  \\\n",
       "0  네 지금 카드로 결제를 했는데 오류가 생겼다고 해서요. 확인 좀 해주세요.네 반갑습...        0   \n",
       "1  예 주문할려고 그러거든요. 네 이게 전화로 해서 적립금 있나요? 국민 카드 청구 할...        0   \n",
       "\n",
       "                                         text(clean)  \\\n",
       "0  네 지금 카드로 결제를 했는데 오류가 생겼다고 해서요  확인 좀 해주세요 네 반갑습...   \n",
       "1  예 주문할려고 그러거든요  네 이게 전화로 해서 적립금 있나요  국민 카드 청구 할...   \n",
       "\n",
       "                                           tokenized  \n",
       "0  [네, 지금, 카드, 결제, 했는데, 오류, 생겼다고, 해서요, 확인, 좀, 해주세...  \n",
       "1  [예, 주문, 할려고, 그러거든요, 네, 이, 전화, 해서, 적립금, 있나요, 국민...  "
      ]
     },
     "execution_count": 8,
     "metadata": {},
     "output_type": "execute_result"
    }
   ],
   "source": [
    "train['tokenized'] = train['text(clean)'].apply(tokenizer)\n",
    "\n",
    "print(train.shape)\n",
    "train.head(2)"
   ]
  },
  {
   "cell_type": "code",
   "execution_count": 9,
   "metadata": {},
   "outputs": [
    {
     "name": "stdout",
     "output_type": "stream",
     "text": [
      "(1196, 4)\n"
     ]
    },
    {
     "name": "stderr",
     "output_type": "stream",
     "text": [
      "C:\\Users\\PC\\AppData\\Local\\Temp\\ipykernel_2056\\1142788433.py:1: SettingWithCopyWarning: \n",
      "A value is trying to be set on a copy of a slice from a DataFrame.\n",
      "Try using .loc[row_indexer,col_indexer] = value instead\n",
      "\n",
      "See the caveats in the documentation: https://pandas.pydata.org/pandas-docs/stable/user_guide/indexing.html#returning-a-view-versus-a-copy\n",
      "  test['tokenized'] = test['text(clean)'].apply(tokenizer)\n"
     ]
    },
    {
     "data": {
      "text/html": [
       "<div>\n",
       "<style scoped>\n",
       "    .dataframe tbody tr th:only-of-type {\n",
       "        vertical-align: middle;\n",
       "    }\n",
       "\n",
       "    .dataframe tbody tr th {\n",
       "        vertical-align: top;\n",
       "    }\n",
       "\n",
       "    .dataframe thead th {\n",
       "        text-align: right;\n",
       "    }\n",
       "</style>\n",
       "<table border=\"1\" class=\"dataframe\">\n",
       "  <thead>\n",
       "    <tr style=\"text-align: right;\">\n",
       "      <th></th>\n",
       "      <th>text</th>\n",
       "      <th>fishing</th>\n",
       "      <th>text(clean)</th>\n",
       "      <th>tokenized</th>\n",
       "    </tr>\n",
       "  </thead>\n",
       "  <tbody>\n",
       "    <tr>\n",
       "      <th>4784</th>\n",
       "      <td>네, 가방 신청을 하고싶어서요.네, 이거 소가죽 상품이 맞나요?네, 주문을 도와드릴...</td>\n",
       "      <td>0</td>\n",
       "      <td>네  가방 신청을 하고싶어서요 네  이거 소가죽 상품이 맞나요 네  주문을 도와드릴...</td>\n",
       "      <td>[네, 가방, 신청, 하고싶어서요, 네, 거, 가죽, 상품, 맞나요, 네, 주문, ...</td>\n",
       "    </tr>\n",
       "    <tr>\n",
       "      <th>4785</th>\n",
       "      <td>주문을 했는데 좀 확인 좀 해볼게요. ㅇㅇㅇ이요.주문은 잘 됐나요?그리고 회원 가입...</td>\n",
       "      <td>0</td>\n",
       "      <td>주문을 했는데 좀 확인 좀 해볼게요  ㅇㅇㅇ이요 주문은 잘 됐나요 그리고 회원 가입...</td>\n",
       "      <td>[주문, 했는데, 좀, 확인, 좀, 해볼게요, 이요, 주문, 잘, 됐나요, 회원, ...</td>\n",
       "    </tr>\n",
       "  </tbody>\n",
       "</table>\n",
       "</div>"
      ],
      "text/plain": [
       "                                                   text  fishing  \\\n",
       "4784  네, 가방 신청을 하고싶어서요.네, 이거 소가죽 상품이 맞나요?네, 주문을 도와드릴...        0   \n",
       "4785  주문을 했는데 좀 확인 좀 해볼게요. ㅇㅇㅇ이요.주문은 잘 됐나요?그리고 회원 가입...        0   \n",
       "\n",
       "                                            text(clean)  \\\n",
       "4784  네  가방 신청을 하고싶어서요 네  이거 소가죽 상품이 맞나요 네  주문을 도와드릴...   \n",
       "4785  주문을 했는데 좀 확인 좀 해볼게요  ㅇㅇㅇ이요 주문은 잘 됐나요 그리고 회원 가입...   \n",
       "\n",
       "                                              tokenized  \n",
       "4784  [네, 가방, 신청, 하고싶어서요, 네, 거, 가죽, 상품, 맞나요, 네, 주문, ...  \n",
       "4785  [주문, 했는데, 좀, 확인, 좀, 해볼게요, 이요, 주문, 잘, 됐나요, 회원, ...  "
      ]
     },
     "execution_count": 9,
     "metadata": {},
     "output_type": "execute_result"
    }
   ],
   "source": [
    "test['tokenized'] = test['text(clean)'].apply(tokenizer)\n",
    "\n",
    "print(test.shape)\n",
    "test.head(2)"
   ]
  },
  {
   "cell_type": "code",
   "execution_count": 10,
   "metadata": {},
   "outputs": [
    {
     "data": {
      "text/plain": [
       "((3348, 4), (1196, 4))"
      ]
     },
     "execution_count": 10,
     "metadata": {},
     "output_type": "execute_result"
    }
   ],
   "source": [
    "# train set test-val 분리\n",
    "from sklearn.model_selection import train_test_split\n",
    "\n",
    "train, val = train_test_split(train, test_size=0.3, random_state=42)\n",
    "train.shape, test.shape"
   ]
  },
  {
   "cell_type": "markdown",
   "metadata": {},
   "source": [
    "## 워드 임베딩(Word Embedding)"
   ]
  },
  {
   "cell_type": "markdown",
   "metadata": {},
   "source": [
    "### 워드 임베딩 - Word2Vec"
   ]
  },
  {
   "cell_type": "code",
   "execution_count": 11,
   "metadata": {},
   "outputs": [],
   "source": [
    "bigrams = Phrases(sentences=train.tokenized)\n",
    "trigrams = Phrases(sentences=bigrams[train.tokenized])"
   ]
  },
  {
   "cell_type": "code",
   "execution_count": 12,
   "metadata": {},
   "outputs": [],
   "source": [
    "N_SPLITS = 5\n",
    "EMBEDDING_SIZE = 256"
   ]
  },
  {
   "cell_type": "code",
   "execution_count": 13,
   "metadata": {},
   "outputs": [],
   "source": [
    "tri_model = Word2Vec(sentences=trigrams[bigrams[train.tokenized]],vector_size=EMBEDDING_SIZE,window=10,min_count=10,workers=4,sg=1)\n",
    "tri_model.wv.save_word2vec_format('w2v_model')\n",
    "loaded_model = KeyedVectors.load_word2vec_format('w2v_model')"
   ]
  },
  {
   "cell_type": "code",
   "execution_count": 14,
   "metadata": {},
   "outputs": [
    {
     "name": "stdout",
     "output_type": "stream",
     "text": [
      "vocabulary size :  4826\n"
     ]
    }
   ],
   "source": [
    "max_word = len(tri_model.wv.key_to_index)\n",
    "print('vocabulary size : ',max_word)"
   ]
  },
  {
   "cell_type": "code",
   "execution_count": 15,
   "metadata": {},
   "outputs": [
    {
     "name": "stdout",
     "output_type": "stream",
     "text": [
      "Vectorie sentence.. (done)\n"
     ]
    }
   ],
   "source": [
    "def vectorize_data(data,vocab: dict) -> list:\n",
    "    print('Vectorize sentences...',end='\\r')\n",
    "    keys=list(vocab.keys())\n",
    "    filter_unknown = lambda word : vocab.get(word,None) is not None\n",
    "    encode = lambda review : list(map(keys.index, filter(filter_unknown, review)))\n",
    "    vectorized = list(map(encode, data))\n",
    "    print('Vectorie sentence.. (done)')\n",
    "    return vectorized\n",
    "\n",
    "X_data = train.tokenized\n",
    "input_length = max(list(map(len,X_data)))\n",
    "X = pad_sequences(\n",
    "    sequences = vectorize_data(X_data, vocab=tri_model.wv.key_to_index),\n",
    "    maxlen = input_length,\n",
    "    padding = 'post'\n",
    ")\n",
    "y = train['fishing'].values"
   ]
  },
  {
   "cell_type": "code",
   "execution_count": 16,
   "metadata": {},
   "outputs": [
    {
     "name": "stdout",
     "output_type": "stream",
     "text": [
      "Vectorie sentence.. (done)\n"
     ]
    }
   ],
   "source": [
    "X_test = pad_sequences(sequences=vectorize_data(test.tokenized, vocab=tri_model.wv.key_to_index),\n",
    "maxlen = input_length, padding = 'post')"
   ]
  },
  {
   "cell_type": "code",
   "execution_count": 17,
   "metadata": {},
   "outputs": [
    {
     "name": "stdout",
     "output_type": "stream",
     "text": [
      "Vectorie sentence.. (done)\n"
     ]
    }
   ],
   "source": [
    "X_val = pad_sequences(sequences=vectorize_data(val.tokenized, vocab=tri_model.wv.key_to_index),maxlen=input_length,padding='post')\n",
    "\n",
    "y_val = val['fishing'].values"
   ]
  },
  {
   "cell_type": "code",
   "execution_count": 18,
   "metadata": {},
   "outputs": [
    {
     "data": {
      "text/plain": [
       "((3348, 2385), (3348,), (1436, 2385), (1436,))"
      ]
     },
     "execution_count": 18,
     "metadata": {},
     "output_type": "execute_result"
    }
   ],
   "source": [
    "X.shape, y.shape, X_val.shape, y_val.shape"
   ]
  },
  {
   "cell_type": "markdown",
   "metadata": {},
   "source": [
    "## 어텐션(Attention)을 적용한 양방향 LSTM 모델"
   ]
  },
  {
   "cell_type": "code",
   "execution_count": 89,
   "metadata": {},
   "outputs": [],
   "source": [
    "class Attention(Layer):\n",
    "    def __init__(self, step_dim, W_regularizer=None, b_regularizer=None, W_constraint = None, b_constraint = None, bias=True, **kwargs):\n",
    "        self.supports_masking = True\n",
    "        self.init = keras.initializers.he_normal(seed=42)\n",
    "        self.W_regularizer = keras.regularizers.get(W_regularizer)\n",
    "        self.b_regularizer = keras.regularizers.get(b_regularizer)\n",
    "\n",
    "        self.W_constraint = keras.constraints.get(W_constraint)\n",
    "        self.b_constraint = keras.constraints.get(b_constraint)\n",
    "\n",
    "        self.bias = bias\n",
    "        self.step_dim = step_dim\n",
    "        self.features_dim = 0\n",
    "        super(Attention,self).__init__(**kwargs)\n",
    "\n",
    "    def build(self, input_shape):\n",
    "        assert len(input_shape) == 3\n",
    "\n",
    "        self.W = self.add_weight(shape=(input_shape[-1],),\n",
    "                                    initializer=self.init,\n",
    "                                    name='{}_W'.format(self.name),\n",
    "                                    regularizer=self.W_regularizer,\n",
    "                                    constraint=self.W_constraint)\n",
    "        self.features_dim = input_shape[-1]\n",
    "\n",
    "        if self.bias:\n",
    "            self.b = self.add_weight(shape=(input_shape[1],),initializer='zero',name='{}_b'.format(self.name),regularizer=self.b_regularizer,constraint=self.b_constraint)\n",
    "        else:\n",
    "            self.b = None\n",
    "        \n",
    "        self.built = True\n",
    "    \n",
    "    def compute_mask(self, input, input_mask=None):\n",
    "        return None\n",
    "\n",
    "    def call(self, x, mask=None):\n",
    "        features_dim = self.features_dim\n",
    "        step_dim = self.step_dim\n",
    "\n",
    "        eij = K.reshape(K.dot(K.reshape(x,(-1,features_dim)),K.reshape(self.W, (features_dim,1))), (-1,step_dim))\n",
    "\n",
    "        a = K.exp(eij)\n",
    "\n",
    "        if mask is not None:\n",
    "            a *= K.cast(mask, K.floatx())\n",
    "\n",
    "        a /= K.cast(K.sum(a, axis=1, keepdims=True)+K.epsilon(),K.floatx())\n",
    "\n",
    "        a = K.expand_dims(a)\n",
    "        weighted_input = x * a\n",
    "        return K.sum(weighted_input, axis=1)\n",
    "\n",
    "    def compute_output_shape(self, input_shape):\n",
    "        return input_shape[0], self.features_dim"
   ]
  },
  {
   "cell_type": "markdown",
   "metadata": {},
   "source": [
    "### NN LSTM Model"
   ]
  },
  {
   "cell_type": "code",
   "execution_count": 91,
   "metadata": {},
   "outputs": [
    {
     "name": "stdout",
     "output_type": "stream",
     "text": [
      "Model: \"sequential_4\"\n",
      "_________________________________________________________________\n",
      " Layer (type)                Output Shape              Param #   \n",
      "=================================================================\n",
      " embedding_4 (Embedding)     (None, 3215, 256)         1241600   \n",
      "                                                                 \n",
      " bidirectional_4 (Bidirectio  (None, 3215, 256)        394240    \n",
      " nal)                                                            \n",
      "                                                                 \n",
      " attention_4 (Attention)     (None, 256)               3471      \n",
      "                                                                 \n",
      " dropout_3 (Dropout)         (None, 256)               0         \n",
      "                                                                 \n",
      " dense_3 (Dense)             (None, 64)                16448     \n",
      "                                                                 \n",
      " dropout_4 (Dropout)         (None, 64)                0         \n",
      "                                                                 \n",
      " dense_4 (Dense)             (None, 32)                2080      \n",
      "                                                                 \n",
      " dropout_5 (Dropout)         (None, 32)                0         \n",
      "                                                                 \n",
      " dense_5 (Dense)             (None, 2)                 66        \n",
      "                                                                 \n",
      "=================================================================\n",
      "Total params: 1,657,905\n",
      "Trainable params: 416,305\n",
      "Non-trainable params: 1,241,600\n",
      "_________________________________________________________________\n"
     ]
    }
   ],
   "source": [
    "def build_model(embedding_matrix:np.ndarray, input_length: int):\n",
    "    model = keras.Sequential()\n",
    "\n",
    "    model.add(Embedding(input_dim=embedding_matrix.shape[0],output_dim=embedding_matrix.shape[1],input_length=input_length,weights=[embedding_matrix],trainable=False))\n",
    "    # 양방향 LSTM 층\n",
    "    model.add(Bidirectional(LSTM(128,dropout=0.2, recurrent_dropout=0.2, return_sequences=True)))\n",
    "    model.add(Attention(input_length))\n",
    "    model.add(Dropout(0.5))\n",
    "    model.add(Dense(64,activation='relu'))\n",
    "    model.add(Dropout(0.4))\n",
    "    model.add(Dense(32,activation='relu'))\n",
    "    model.add(Dropout(0.4))\n",
    "\n",
    "    model.add(Dense(2,activation='Softmax'))\n",
    "    adam = optimizers.Adam(lr=0.001, amsgrad=True)\n",
    "    model.compile(loss='sparse_categorical_crossentropy',optimizer=adam, metrics=['accuracy'])\n",
    "    model.summary()\n",
    "    return model\n",
    "\n",
    "model_lstm = build_model(embedding_matrix=tri_model.wv.vectors,input_length=X.shape[1])\n",
    "early_stopping_callback = keras.callbacks.EarlyStopping(monitor='val_loss',min_delta=0,patience=5,verbose=0,mode='auto')"
   ]
  },
  {
   "cell_type": "code",
   "execution_count": 94,
   "metadata": {},
   "outputs": [
    {
     "name": "stdout",
     "output_type": "stream",
     "text": [
      "Epoch 1/30\n",
      "WARNING:tensorflow:Gradients do not exist for variables ['attention_4/attention_4_b:0'] when minimizing the loss. If you're using `model.compile()`, did you forget to provide a `loss`argument?\n",
      "WARNING:tensorflow:Gradients do not exist for variables ['attention_4/attention_4_b:0'] when minimizing the loss. If you're using `model.compile()`, did you forget to provide a `loss`argument?\n"
     ]
    },
    {
     "ename": "",
     "evalue": "",
     "output_type": "error",
     "traceback": [
      "\u001b[1;31mCanceled future for execute_request message before replies were done"
     ]
    },
    {
     "ename": "",
     "evalue": "",
     "output_type": "error",
     "traceback": [
      "현재 셀 또는 이전 셀에서 코드를 실행하는 동안 Kernel이 충돌했습니다. 셀의 코드를 검토하여 오류의 가능한 원인을 식별하세요. 자세한 내용을 보려면 <a href='https://aka.ms/vscodeJupyterKernelCrash'> 여기 </a> 를 클릭하세요. 자세한 내용은 Jupyter <a href='command:jupyter.viewOutput'>로그</a>를 참조하세요."
     ]
    }
   ],
   "source": [
    "batch_size = 1024\n",
    "trained = model_lstm.fit(X,y, epochs=30, batch_size=batch_size, validation_data=(X_val,y_val),callbacks=[early_stopping_callback])"
   ]
  },
  {
   "cell_type": "code",
   "execution_count": null,
   "metadata": {},
   "outputs": [],
   "source": []
  }
 ],
 "metadata": {
  "kernelspec": {
   "display_name": "Python 3.10.5 ('.venv': venv)",
   "language": "python",
   "name": "python3"
  },
  "language_info": {
   "codemirror_mode": {
    "name": "ipython",
    "version": 3
   },
   "file_extension": ".py",
   "mimetype": "text/x-python",
   "name": "python",
   "nbconvert_exporter": "python",
   "pygments_lexer": "ipython3",
   "version": "3.10.5"
  },
  "orig_nbformat": 4,
  "vscode": {
   "interpreter": {
    "hash": "251d6f3664e8549b60273c1bb7183937b02ed107e086f373052606fe2cb192b0"
   }
  }
 },
 "nbformat": 4,
 "nbformat_minor": 2
}
